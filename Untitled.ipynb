{
 "cells": [
  {
   "cell_type": "code",
   "execution_count": 26,
   "id": "9db9365a",
   "metadata": {},
   "outputs": [
    {
     "name": "stdout",
     "output_type": "stream",
     "text": [
      "* \n",
      "* * \n",
      "* * * \n"
     ]
    }
   ],
   "source": [
    "for i in range(3):\n",
    "    for j in range(0,i+1):\n",
    "        print(\"*\",end=\" \")\n",
    "    print()"
   ]
  },
  {
   "cell_type": "code",
   "execution_count": 35,
   "id": "15391cce",
   "metadata": {},
   "outputs": [
    {
     "name": "stdout",
     "output_type": "stream",
     "text": [
      "1 \n",
      "1 2 \n",
      "1 2 3 \n",
      "1 2 3 4 \n",
      "1 2 3 4 5 \n"
     ]
    }
   ],
   "source": [
    "for i in range(1,6):\n",
    "    for j in range(1,i+1):\n",
    "        print(j,end=\" \")\n",
    "    print()\n",
    "    "
   ]
  },
  {
   "cell_type": "code",
   "execution_count": 47,
   "id": "a7a61a21",
   "metadata": {},
   "outputs": [
    {
     "name": "stdout",
     "output_type": "stream",
     "text": [
      "x x x x x x \n",
      "x x x x x \n",
      "x x x x \n",
      "x x x \n",
      "x x \n",
      "x \n"
     ]
    }
   ],
   "source": [
    "n=6\n",
    "for i in range(n):\n",
    "    for j in range(1,n-i+1):\n",
    "        print(\"x\",end= \" \")\n",
    "    print()"
   ]
  },
  {
   "cell_type": "code",
   "execution_count": null,
   "id": "d03a6ba5",
   "metadata": {},
   "outputs": [],
   "source": [
    "1 2 3 4 5 6\n",
    "1 2 3 4 5\n",
    "1 2 3 4\n",
    "1 2 3\n",
    "1 2 \n",
    "1"
   ]
  },
  {
   "cell_type": "code",
   "execution_count": 65,
   "id": "c44f7767",
   "metadata": {
    "scrolled": false
   },
   "outputs": [
    {
     "name": "stdout",
     "output_type": "stream",
     "text": [
      "xxxxxxxxxxx\n",
      " xxxxxxxxx \n",
      "  xxxxxxx  \n",
      "   xxxxx   \n",
      "    xxx    \n",
      "     x     \n"
     ]
    }
   ],
   "source": [
    "for i in range(6):\n",
    "    for j in range(i):\n",
    "        print(\" \",end=\"\")\n",
    "    for k in range(2*(6-i)-1):\n",
    "        print(\"x\",end=\"\")\n",
    "    for m in range(i):\n",
    "        print(\" \",end=\"\")\n",
    "    print()"
   ]
  },
  {
   "cell_type": "code",
   "execution_count": 63,
   "id": "2c025cbf",
   "metadata": {},
   "outputs": [
    {
     "name": "stdout",
     "output_type": "stream",
     "text": [
      "***********\n",
      " ********* \n",
      "  *******  \n",
      "   *****   \n",
      "    ***    \n",
      "     *     \n"
     ]
    }
   ],
   "source": [
    "# Define the height of the pattern\n",
    "height = 6\n",
    "\n",
    "# Iterate through each row\n",
    "for i in range(height):\n",
    "    # Print spaces for the left side of the pattern\n",
    "    for j in range(i):\n",
    "        print(\" \", end=\"\")\n",
    "    \n",
    "    # Print asterisks for the left side of the pattern\n",
    "    for k in range(2 * (height - i) - 1):\n",
    "        print(\"*\", end=\"\")\n",
    "\n",
    "    # Print spaces for the right side of the pattern\n",
    "    for m in range(i):\n",
    "        print(\" \", end=\"\")\n",
    "    \n",
    "    # Move to the next line after each row\n",
    "    print()\n"
   ]
  },
  {
   "cell_type": "code",
   "execution_count": 3,
   "id": "e2e9b0a1",
   "metadata": {},
   "outputs": [
    {
     "name": "stdout",
     "output_type": "stream",
     "text": [
      "x\n",
      "xx\n",
      "xxx\n",
      "xxxx\n",
      "xxxxx\n",
      "xxxxxx\n",
      "xxxxx\n",
      "xxxx\n",
      "xxx\n",
      "xx\n",
      "x\n"
     ]
    }
   ],
   "source": [
    "for i in range(1,6):\n",
    "    for j in range(i):\n",
    "        print(\"x\",end=\"\")\n",
    "    print()\n",
    "for i in range(6,0,-1):\n",
    "    for j in range(i):\n",
    "         print(\"x\",end=\"\")\n",
    "    print()"
   ]
  },
  {
   "cell_type": "code",
   "execution_count": 5,
   "id": "18dd3300",
   "metadata": {},
   "outputs": [
    {
     "name": "stdout",
     "output_type": "stream",
     "text": [
      "*\n",
      "**\n",
      "***\n",
      "****\n",
      "*****\n",
      "******\n",
      "******\n",
      "*****\n",
      "****\n",
      "***\n",
      "**\n",
      "*\n"
     ]
    }
   ],
   "source": [
    "# Define the maximum number of stars\n",
    "max_stars = 6\n",
    "\n",
    "# First half of the pattern\n",
    "for i in range(1, max_stars + 1):\n",
    "    print('*' * i)\n",
    "\n",
    "# Second half of the pattern\n",
    "for i in range(max_stars , 0, -1):\n",
    "    print('*' * i)\n"
   ]
  },
  {
   "cell_type": "code",
   "execution_count": 11,
   "id": "406417e5",
   "metadata": {},
   "outputs": [
    {
     "name": "stdout",
     "output_type": "stream",
     "text": [
      "*\n",
      "**\n",
      "***\n",
      "****\n",
      "*****\n",
      "******\n",
      "*****\n",
      "****\n",
      "***\n",
      "**\n",
      "*\n",
      "\n"
     ]
    }
   ],
   "source": [
    "max_stars = 6\n",
    "\n",
    "# First half of the pattern\n",
    "for i in range(1, max_stars + 1):\n",
    "    print('*' * i)\n",
    "\n",
    "# Second half of the pattern\n",
    "for i in range(max_stars-1 , -1, -1):\n",
    "    print('*' * i)\n"
   ]
  },
  {
   "cell_type": "code",
   "execution_count": 14,
   "id": "a0921e9d",
   "metadata": {},
   "outputs": [
    {
     "name": "stdout",
     "output_type": "stream",
     "text": [
      "1\n",
      "01\n",
      "101\n",
      "0101\n",
      "10101\n"
     ]
    }
   ],
   "source": [
    "def pattern11(N):\n",
    "    # First row starts by printing a single 1.\n",
    "    start = 1\n",
    "    \n",
    "    # Outer loop for the number of rows\n",
    "    for i in range(N):\n",
    "        # If the row index is even, then 1 is printed first in that row.\n",
    "        if i % 2 == 0:\n",
    "            start = 1\n",
    "        # If odd, then the first 0 will be printed in that row.\n",
    "        else:\n",
    "            start = 0\n",
    "        \n",
    "        # We alternatively print 1's and 0's in each row by using the inner loop.\n",
    "        for j in range(i + 1):\n",
    "            print(start, end='')\n",
    "            start = 1 - start\n",
    "        \n",
    "        # Move to the next row and give a line break.\n",
    "        print()\n",
    "\n",
    "# Here, we have taken the value of N as 5.\n",
    "# We can also take input from the user.\n",
    "N = 5\n",
    "pattern11(N)\n"
   ]
  },
  {
   "cell_type": "code",
   "execution_count": 38,
   "id": "1311ec3c",
   "metadata": {},
   "outputs": [
    {
     "name": "stdout",
     "output_type": "stream",
     "text": [
      "1\n",
      "21\n",
      "321\n",
      "4321\n",
      "54321\n"
     ]
    }
   ],
   "source": [
    "def pattern(N):\n",
    "    for i in range(1, N + 1):\n",
    "        # Print the increasing sequence\n",
    "        for j in range(1, i + 1):\n",
    "            print(j, end=\"\")\n",
    "        \n",
    "        # Print the spaces in between\n",
    "        spaces = 2 * (N - i)\n",
    "        for _ in range(spaces):\n",
    "            print(\" \", end=\"\")\n",
    "        \n",
    "        # Print the decreasing sequence\n",
    "        for j in range(i, 0, -1):\n",
    "            print(j, end=\"\")\n",
    "        \n",
    "        # Move to the next row\n",
    "        print()\n",
    "\n",
    "# Example usage\n",
    "N = 5\n",
    "pattern(N)\n",
    "\n",
    "    "
   ]
  },
  {
   "cell_type": "code",
   "execution_count": 57,
   "id": "f6418504",
   "metadata": {},
   "outputs": [
    {
     "name": "stdout",
     "output_type": "stream",
     "text": [
      "1 \n",
      " \n",
      " \n",
      " \n",
      " \n",
      " \n",
      " \n",
      " \n",
      " \n",
      " \n",
      " \n",
      " \n",
      "1\n",
      "12 \n",
      " \n",
      " \n",
      " \n",
      " \n",
      " \n",
      " \n",
      " \n",
      " \n",
      " \n",
      " \n",
      " \n",
      "21\n",
      "123 \n",
      " \n",
      " \n",
      " \n",
      " \n",
      " \n",
      " \n",
      " \n",
      " \n",
      " \n",
      " \n",
      " \n",
      "321\n",
      "1234 \n",
      " \n",
      " \n",
      " \n",
      " \n",
      " \n",
      " \n",
      " \n",
      " \n",
      " \n",
      " \n",
      " \n",
      "4321\n",
      "12345 \n",
      " \n",
      " \n",
      " \n",
      " \n",
      " \n",
      " \n",
      " \n",
      " \n",
      " \n",
      " \n",
      " \n",
      "54321\n",
      "123456 \n",
      " \n",
      " \n",
      " \n",
      " \n",
      " \n",
      " \n",
      " \n",
      " \n",
      " \n",
      " \n",
      " \n",
      "654321\n",
      "1234567 \n",
      " \n",
      " \n",
      " \n",
      " \n",
      " \n",
      " \n",
      " \n",
      " \n",
      " \n",
      " \n",
      " \n",
      "7654321\n"
     ]
    }
   ],
   "source": [
    "n=7\n",
    "for i in range(1,n+1):\n",
    "    for j in range(1,i+1):\n",
    "        print(j,end=\"\")\n",
    "    space=2*(n-1)\n",
    "    for m in range(space):\n",
    "        print(\" \")\n",
    "    for k in range(i,0,-1):\n",
    "        print(k,end=\"\")\n",
    "    print()"
   ]
  },
  {
   "cell_type": "code",
   "execution_count": 58,
   "id": "26981c58",
   "metadata": {
    "scrolled": true
   },
   "outputs": [
    {
     "name": "stdout",
     "output_type": "stream",
     "text": [
      "1          1\n",
      "12        21\n",
      "123      321\n",
      "1234    4321\n",
      "12345  54321\n",
      "123456654321\n"
     ]
    }
   ],
   "source": [
    "def pattern(N):\n",
    "    for i in range(1, N + 1):\n",
    "        # Print the increasing sequence\n",
    "        for j in range(1, i + 1):\n",
    "            print(j, end=\"\")\n",
    "        \n",
    "        # Print the spaces in between\n",
    "        spaces = 2 * (N - i)\n",
    "        for _ in range(spaces):\n",
    "            print(\" \", end=\"\")\n",
    "        \n",
    "        # Print the decreasing sequence\n",
    "        for j in range(i, 0, -1):\n",
    "            print(j, end=\"\")\n",
    "        \n",
    "        # Move to the next row\n",
    "        print()\n",
    "\n",
    "# Example usage\n",
    "N = 6\n",
    "pattern(N)\n"
   ]
  },
  {
   "cell_type": "code",
   "execution_count": 77,
   "id": "ec0a9764",
   "metadata": {},
   "outputs": [
    {
     "name": "stdout",
     "output_type": "stream",
     "text": [
      "A \n",
      "A B \n",
      "A B C \n",
      "A B C D \n",
      "A B C D E \n"
     ]
    }
   ],
   "source": [
    "num=\"ABCDE\"\n",
    "c=\"\"\n",
    "for i in range(len(num)):\n",
    "    for j in range(0,i+1):\n",
    "        print(num[j],end=\" \")\n",
    "    print()"
   ]
  },
  {
   "cell_type": "code",
   "execution_count": 83,
   "id": "64f9f5a0",
   "metadata": {},
   "outputs": [
    {
     "name": "stdout",
     "output_type": "stream",
     "text": [
      "A B C D E \n",
      "A B C D \n",
      "A B C \n",
      "A B \n",
      "A \n"
     ]
    }
   ],
   "source": [
    "num=\"ABCDE\"\n",
    "c=\"\"\n",
    "for i in range(5,0,-1):\n",
    "    for j in range(i):\n",
    "        print(num[j])\n",
    "    print()"
   ]
  },
  {
   "cell_type": "code",
   "execution_count": 86,
   "id": "b7aea73d",
   "metadata": {},
   "outputs": [
    {
     "name": "stdout",
     "output_type": "stream",
     "text": [
      "     A\n",
      "    ABA\n",
      "   ABCBA\n",
      "  ABCDCBA\n",
      " ABCDEDCBA\n",
      "ABCDEFEDCBA\n"
     ]
    }
   ],
   "source": [
    "for i in range(N):\n",
    "        # Print leading spaces\n",
    "        for j in range(N - i - 1):\n",
    "            print(\" \", end=\"\")\n",
    "        \n",
    "        # Print increasing part of the pattern\n",
    "        for j in range(i + 1):\n",
    "            print(chr(65 + j), end=\"\")\n",
    "        \n",
    "        # Print decreasing part of the pattern\n",
    "        for j in range(i - 1, -1, -1):\n",
    "            print(chr(65 + j), end=\"\")\n",
    "        \n",
    "        # Move to the next line\n",
    "        print()"
   ]
  },
  {
   "cell_type": "code",
   "execution_count": 90,
   "id": "47ebb0f9",
   "metadata": {},
   "outputs": [
    {
     "name": "stdout",
     "output_type": "stream",
     "text": [
      "\n",
      "E\n",
      "\n",
      "EE\n",
      "EED\n",
      "\n",
      "EEDE\n",
      "EEDED\n",
      "EEDEDC\n",
      "\n",
      "EEDEDCE\n",
      "EEDEDCED\n",
      "EEDEDCEDC\n",
      "EEDEDCEDCB\n",
      "\n"
     ]
    }
   ],
   "source": [
    "ap=\"\"\n",
    "for i in range(5):\n",
    "    for j in range(i):\n",
    "        ap+=chr(69-j)\n",
    "        print(ap)\n",
    "    print()"
   ]
  },
  {
   "cell_type": "code",
   "execution_count": 98,
   "id": "e48d858c",
   "metadata": {},
   "outputs": [
    {
     "name": "stdout",
     "output_type": "stream",
     "text": [
      "xxxxx\n",
      "xxxx\n",
      "xxx\n",
      "xx\n"
     ]
    }
   ],
   "source": [
    "space=0  \n",
    "for i in range(5-1):\n",
    "    for j in range(i):\n",
    "        print(\"x\",end=\"\")   \n",
    "    for k in range(space):\n",
    "        print(\" \",end=\" \")\n",
    "        space+=2\n",
    "    #for j in range(i):\n",
    "    #    print(\"x\",end=\"\")\n",
    "    print()"
   ]
  },
  {
   "cell_type": "code",
   "execution_count": 100,
   "id": "8eebe03f",
   "metadata": {},
   "outputs": [
    {
     "name": "stdout",
     "output_type": "stream",
     "text": [
      "************\n",
      "*****  *****\n",
      "****    ****\n",
      "***      ***\n",
      "**        **\n",
      "*          *\n",
      "*          *\n",
      "**        **\n",
      "***      ***\n",
      "****    ****\n",
      "*****  *****\n",
      "************\n"
     ]
    }
   ],
   "source": [
    "def pattern(N):\n",
    "    # Generate the first half of the pattern\n",
    "    for i in range(N):\n",
    "        # Print the leading stars\n",
    "        for j in range(N - i):\n",
    "            print('*', end='')\n",
    "        \n",
    "        # Print the spaces\n",
    "        for j in range(2 * i):\n",
    "            print(' ', end='')\n",
    "        \n",
    "        # Print the trailing stars\n",
    "        for j in range(N - i):\n",
    "            print('*', end='')\n",
    "        \n",
    "        # Move to the next line\n",
    "        print()\n",
    "    \n",
    "    # Generate the second half of the pattern (mirror of the first half)\n",
    "    for i in range(N):\n",
    "        # Print the leading stars\n",
    "        for j in range(i + 1):\n",
    "            print('*', end='')\n",
    "        \n",
    "        # Print the spaces\n",
    "        for j in range(2 * (N - i - 1)):\n",
    "            print(' ', end='')\n",
    "        \n",
    "        # Print the trailing stars\n",
    "        for j in range(i + 1):\n",
    "            print('*', end='')\n",
    "        \n",
    "        # Move to the next line\n",
    "        print()\n",
    "\n",
    "# Example usage\n",
    "N = 6\n",
    "pattern(N)\n"
   ]
  },
  {
   "cell_type": "code",
   "execution_count": 111,
   "id": "3342c787",
   "metadata": {},
   "outputs": [
    {
     "name": "stdout",
     "output_type": "stream",
     "text": [
      "6\n",
      "5\n",
      "4\n",
      "3\n",
      "2\n",
      "1\n"
     ]
    }
   ],
   "source": [
    "for i in range(6,0,-1):\n",
    "    print(i)"
   ]
  },
  {
   "cell_type": "code",
   "execution_count": 104,
   "id": "1d993d2c",
   "metadata": {},
   "outputs": [],
   "source": [
    "def pope():\n",
    "    print(\"kkk\")"
   ]
  },
  {
   "cell_type": "code",
   "execution_count": 106,
   "id": "ff3d4db0",
   "metadata": {},
   "outputs": [
    {
     "name": "stdout",
     "output_type": "stream",
     "text": [
      "kkk\n"
     ]
    }
   ],
   "source": [
    "pope()"
   ]
  },
  {
   "cell_type": "code",
   "execution_count": 11,
   "id": "3652b0c3",
   "metadata": {},
   "outputs": [
    {
     "name": "stdout",
     "output_type": "stream",
     "text": [
      "       \n",
      "1     1\n",
      "12   21\n",
      "123 321\n",
      "12344321\n"
     ]
    }
   ],
   "source": [
    "n=4\n",
    "space=2*(n-1)\n",
    "for i in range(n+1):\n",
    "    for j in range(1,i+1):\n",
    "        print(j,end=\"\")\n",
    "    for k in range(space+1):\n",
    "        print(\" \",end=\"\")\n",
    "    for l in range(i,0,-1):\n",
    "        print(l,end=\"\")\n",
    "    print()\n",
    "    space-=2"
   ]
  },
  {
   "cell_type": "code",
   "execution_count": 24,
   "id": "1f9c26bf",
   "metadata": {},
   "outputs": [
    {
     "name": "stdout",
     "output_type": "stream",
     "text": [
      "1 \n",
      "2 3 \n",
      "4 5 6 \n",
      "7 8 9 10 \n",
      "11 12 13 14 15 \n"
     ]
    }
   ],
   "source": [
    "num=1\n",
    "for i in range(1,6):\n",
    "    for j in range(i):\n",
    "        print(num,end=\" \")\n",
    "        num+=1\n",
    "    print()\n",
    "        "
   ]
  },
  {
   "cell_type": "code",
   "execution_count": 25,
   "id": "abceca7b",
   "metadata": {},
   "outputs": [],
   "source": [
    "for i in range(0):\n",
    "    print(i)"
   ]
  },
  {
   "cell_type": "code",
   "execution_count": 47,
   "id": "2e0d65d9",
   "metadata": {},
   "outputs": [
    {
     "data": {
      "text/plain": [
       "69"
      ]
     },
     "execution_count": 47,
     "metadata": {},
     "output_type": "execute_result"
    }
   ],
   "source": [
    "ord('E')"
   ]
  },
  {
   "cell_type": "code",
   "execution_count": 50,
   "id": "73025912",
   "metadata": {},
   "outputs": [
    {
     "data": {
      "text/plain": [
       "'D'"
      ]
     },
     "execution_count": 50,
     "metadata": {},
     "output_type": "execute_result"
    }
   ],
   "source": [
    "chr(68)"
   ]
  },
  {
   "cell_type": "code",
   "execution_count": 41,
   "id": "e8b426fd",
   "metadata": {},
   "outputs": [
    {
     "name": "stdout",
     "output_type": "stream",
     "text": [
      "ABCDEF\n",
      "ABCDE\n",
      "ABCD\n",
      "ABC\n",
      "AB\n",
      "A\n"
     ]
    }
   ],
   "source": [
    "for i in range(6,0,-1):\n",
    "    for j in range(i):\n",
    "        print((chr(65+j)),end=\"\")\n",
    "    print()"
   ]
  },
  {
   "cell_type": "code",
   "execution_count": 46,
   "id": "014931c3",
   "metadata": {},
   "outputs": [
    {
     "name": "stdout",
     "output_type": "stream",
     "text": [
      "A\n",
      "BB\n",
      "CCC\n",
      "DDDD\n",
      "EEEEE\n"
     ]
    }
   ],
   "source": [
    "num=0\n",
    "for i in range(5):\n",
    "    for j in range(i+1):\n",
    "        print(chr(65+i),end=\"\")\n",
    "        num+=1\n",
    "    print()"
   ]
  },
  {
   "cell_type": "code",
   "execution_count": 65,
   "id": "2ad48c5c",
   "metadata": {},
   "outputs": [
    {
     "name": "stdout",
     "output_type": "stream",
     "text": [
      "E E \n",
      "F F F \n",
      "G G G G \n",
      "H H H H H \n",
      "I I I I I I \n"
     ]
    }
   ],
   "source": [
    "for i in range(5):\n",
    "    for j in range(i+1,-1,-1):\n",
    "        print(chr(69+i),end=\" \")\n",
    "    print()"
   ]
  },
  {
   "cell_type": "code",
   "execution_count": 67,
   "id": "f1e5530d",
   "metadata": {},
   "outputs": [
    {
     "name": "stdout",
     "output_type": "stream",
     "text": [
      "E \n",
      "D E \n",
      "C D E \n",
      "B C D E \n",
      "A B C D E \n"
     ]
    }
   ],
   "source": [
    "def pattern18(N):\n",
    "    # Outer loop for the number of rows\n",
    "    for i in range(N):\n",
    "        # Inner loop for printing the alphabets\n",
    "        # Starts from 'A' + N - 1 - i and goes up to 'A' + N - 1\n",
    "        for ch in range(ord('A') + N - 1 - i, ord('A') + N):\n",
    "            print(chr(ch), end=\" \")\n",
    "        \n",
    "        # Move to the next row\n",
    "        print()\n",
    "\n",
    "# Main function\n",
    "def main():\n",
    "    # Value of N\n",
    "    N = 5\n",
    "    \n",
    "    # Call the pattern18 function\n",
    "    pattern18(N)\n",
    "\n",
    "# Call the main function\n",
    "if __name__ == \"__main__\":\n",
    "    main()\n",
    "\n"
   ]
  },
  {
   "cell_type": "code",
   "execution_count": 75,
   "id": "9a2a6c18",
   "metadata": {},
   "outputs": [
    {
     "name": "stdout",
     "output_type": "stream",
     "text": [
      "**********\n",
      "****  ******\n",
      "***    *******\n",
      "**      ********\n",
      "*        *********\n"
     ]
    }
   ],
   "source": [
    "n=5\n",
    "space=0\n",
    "for i in range(n):\n",
    "    for j in range(n-i):\n",
    "        print(\"*\",end=\"\")\n",
    "    for k in range(2*i):\n",
    "        print(\" \",end=\"\")\n",
    "    for l in range(n+i):\n",
    "        print(\"*\",end=\"\")\n",
    "\n",
    "    print()"
   ]
  },
  {
   "cell_type": "code",
   "execution_count": 79,
   "id": "b58e4c6c",
   "metadata": {},
   "outputs": [
    {
     "name": "stdout",
     "output_type": "stream",
     "text": [
      "**********\n",
      "****  ****\n",
      "***    ***\n",
      "**      **\n",
      "*        *\n",
      "**********          **************        ***********      ********    ***"
     ]
    }
   ],
   "source": [
    "N=5\n",
    "for i in range(N):\n",
    "        # Print the leading stars\n",
    "        for j in range(N - i):\n",
    "            print('*', end='')\n",
    "        \n",
    "        # Print the spaces\n",
    "        for j in range(2 * i):\n",
    "            print(' ', end='')\n",
    "        \n",
    "        # Print the trailing stars\n",
    "        for j in range(N - i):\n",
    "            print('*', end='')\n",
    "        \n",
    "        # Move to the next line\n",
    "        print()\n",
    "for i in range(N,1,-1):\n",
    "    for j in range(i+i):\n",
    "            print('*', end='')\n",
    "        \n",
    "        # Print the spaces\n",
    "    for j in range(2 * i):\n",
    "        print(' ', end='')\n",
    "    \n",
    "    # Print the trailing stars\n",
    "    for j in range( i+1):\n",
    "        print('*', end='')"
   ]
  },
  {
   "cell_type": "code",
   "execution_count": 80,
   "id": "6396ed86",
   "metadata": {},
   "outputs": [
    {
     "name": "stdout",
     "output_type": "stream",
     "text": [
      "*        *\n",
      "**      **\n",
      "***    ***\n",
      "****  ****\n",
      "**********\n",
      "****  ****\n",
      "***    ***\n",
      "**      **\n",
      "*        *\n"
     ]
    }
   ],
   "source": [
    "def pattern20(n):\n",
    "    # Initialising the spaces\n",
    "    spaces = 2 * n - 2\n",
    "\n",
    "    # Outer loop for printing rows\n",
    "    for i in range(1, 2 * n):\n",
    "        # Stars for the first half\n",
    "        stars = i if i <= n else 2 * n - i\n",
    "\n",
    "        # For printing the stars\n",
    "        print(\"*\" * stars, end=\"\")\n",
    "\n",
    "        # For printing the spaces\n",
    "        print(\" \" * spaces, end=\"\")\n",
    "\n",
    "        # For printing the stars again\n",
    "        print(\"*\" * stars)\n",
    "\n",
    "        # Adjust spaces for the next row\n",
    "        if i < n:\n",
    "            spaces -= 2\n",
    "        else:\n",
    "            spaces += 2\n",
    "\n",
    "# Main function\n",
    "def main():\n",
    "    # Value of n\n",
    "    n = 5\n",
    "\n",
    "    # Call the pattern20 function\n",
    "    pattern20(n)\n",
    "\n",
    "# Call the main function\n",
    "if __name__ == \"__main__\":\n",
    "    main()\n",
    "\n",
    "    "
   ]
  },
  {
   "cell_type": "code",
   "execution_count": null,
   "id": "29a7754d",
   "metadata": {},
   "outputs": [],
   "source": []
  }
 ],
 "metadata": {
  "kernelspec": {
   "display_name": "Python 3 (ipykernel)",
   "language": "python",
   "name": "python3"
  },
  "language_info": {
   "codemirror_mode": {
    "name": "ipython",
    "version": 3
   },
   "file_extension": ".py",
   "mimetype": "text/x-python",
   "name": "python",
   "nbconvert_exporter": "python",
   "pygments_lexer": "ipython3",
   "version": "3.11.2"
  }
 },
 "nbformat": 4,
 "nbformat_minor": 5
}
