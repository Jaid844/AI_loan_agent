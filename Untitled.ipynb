{
 "cells": [
  {
   "cell_type": "code",
   "execution_count": 26,
   "id": "9db9365a",
   "metadata": {},
   "outputs": [
    {
     "name": "stdout",
     "output_type": "stream",
     "text": [
      "* \n",
      "* * \n",
      "* * * \n"
     ]
    }
   ],
   "source": [
    "for i in range(3):\n",
    "    for j in range(0,i+1):\n",
    "        print(\"*\",end=\" \")\n",
    "    print()"
   ]
  },
  {
   "cell_type": "code",
   "execution_count": 35,
   "id": "15391cce",
   "metadata": {},
   "outputs": [
    {
     "name": "stdout",
     "output_type": "stream",
     "text": [
      "1 \n",
      "1 2 \n",
      "1 2 3 \n",
      "1 2 3 4 \n",
      "1 2 3 4 5 \n"
     ]
    }
   ],
   "source": [
    "for i in range(1,6):\n",
    "    for j in range(1,i+1):\n",
    "        print(j,end=\" \")\n",
    "    print()\n",
    "    "
   ]
  },
  {
   "cell_type": "code",
   "execution_count": 47,
   "id": "a7a61a21",
   "metadata": {},
   "outputs": [
    {
     "name": "stdout",
     "output_type": "stream",
     "text": [
      "x x x x x x \n",
      "x x x x x \n",
      "x x x x \n",
      "x x x \n",
      "x x \n",
      "x \n"
     ]
    }
   ],
   "source": [
    "n=6\n",
    "for i in range(n):\n",
    "    for j in range(1,n-i+1):\n",
    "        print(\"x\",end= \" \")\n",
    "    print()"
   ]
  },
  {
   "cell_type": "code",
   "execution_count": null,
   "id": "d03a6ba5",
   "metadata": {},
   "outputs": [],
   "source": [
    "1 2 3 4 5 6\n",
    "1 2 3 4 5\n",
    "1 2 3 4\n",
    "1 2 3\n",
    "1 2 \n",
    "1"
   ]
  },
  {
   "cell_type": "code",
   "execution_count": 65,
   "id": "c44f7767",
   "metadata": {
    "scrolled": false
   },
   "outputs": [
    {
     "name": "stdout",
     "output_type": "stream",
     "text": [
      "xxxxxxxxxxx\n",
      " xxxxxxxxx \n",
      "  xxxxxxx  \n",
      "   xxxxx   \n",
      "    xxx    \n",
      "     x     \n"
     ]
    }
   ],
   "source": [
    "for i in range(6):\n",
    "    for j in range(i):\n",
    "        print(\" \",end=\"\")\n",
    "    for k in range(2*(6-i)-1):\n",
    "        print(\"x\",end=\"\")\n",
    "    for m in range(i):\n",
    "        print(\" \",end=\"\")\n",
    "    print()"
   ]
  },
  {
   "cell_type": "code",
   "execution_count": 63,
   "id": "2c025cbf",
   "metadata": {},
   "outputs": [
    {
     "name": "stdout",
     "output_type": "stream",
     "text": [
      "***********\n",
      " ********* \n",
      "  *******  \n",
      "   *****   \n",
      "    ***    \n",
      "     *     \n"
     ]
    }
   ],
   "source": [
    "# Define the height of the pattern\n",
    "height = 6\n",
    "\n",
    "# Iterate through each row\n",
    "for i in range(height):\n",
    "    # Print spaces for the left side of the pattern\n",
    "    for j in range(i):\n",
    "        print(\" \", end=\"\")\n",
    "    \n",
    "    # Print asterisks for the left side of the pattern\n",
    "    for k in range(2 * (height - i) - 1):\n",
    "        print(\"*\", end=\"\")\n",
    "\n",
    "    # Print spaces for the right side of the pattern\n",
    "    for m in range(i):\n",
    "        print(\" \", end=\"\")\n",
    "    \n",
    "    # Move to the next line after each row\n",
    "    print()\n"
   ]
  },
  {
   "cell_type": "code",
   "execution_count": 3,
   "id": "e2e9b0a1",
   "metadata": {},
   "outputs": [
    {
     "name": "stdout",
     "output_type": "stream",
     "text": [
      "x\n",
      "xx\n",
      "xxx\n",
      "xxxx\n",
      "xxxxx\n",
      "xxxxxx\n",
      "xxxxx\n",
      "xxxx\n",
      "xxx\n",
      "xx\n",
      "x\n"
     ]
    }
   ],
   "source": [
    "for i in range(1,6):\n",
    "    for j in range(i):\n",
    "        print(\"x\",end=\"\")\n",
    "    print()\n",
    "for i in range(6,0,-1):\n",
    "    for j in range(i):\n",
    "         print(\"x\",end=\"\")\n",
    "    print()"
   ]
  },
  {
   "cell_type": "code",
   "execution_count": 5,
   "id": "18dd3300",
   "metadata": {},
   "outputs": [
    {
     "name": "stdout",
     "output_type": "stream",
     "text": [
      "*\n",
      "**\n",
      "***\n",
      "****\n",
      "*****\n",
      "******\n",
      "******\n",
      "*****\n",
      "****\n",
      "***\n",
      "**\n",
      "*\n"
     ]
    }
   ],
   "source": [
    "# Define the maximum number of stars\n",
    "max_stars = 6\n",
    "\n",
    "# First half of the pattern\n",
    "for i in range(1, max_stars + 1):\n",
    "    print('*' * i)\n",
    "\n",
    "# Second half of the pattern\n",
    "for i in range(max_stars , 0, -1):\n",
    "    print('*' * i)\n"
   ]
  },
  {
   "cell_type": "code",
   "execution_count": 11,
   "id": "406417e5",
   "metadata": {},
   "outputs": [
    {
     "name": "stdout",
     "output_type": "stream",
     "text": [
      "*\n",
      "**\n",
      "***\n",
      "****\n",
      "*****\n",
      "******\n",
      "*****\n",
      "****\n",
      "***\n",
      "**\n",
      "*\n",
      "\n"
     ]
    }
   ],
   "source": [
    "max_stars = 6\n",
    "\n",
    "# First half of the pattern\n",
    "for i in range(1, max_stars + 1):\n",
    "    print('*' * i)\n",
    "\n",
    "# Second half of the pattern\n",
    "for i in range(max_stars-1 , -1, -1):\n",
    "    print('*' * i)\n"
   ]
  },
  {
   "cell_type": "code",
   "execution_count": 14,
   "id": "a0921e9d",
   "metadata": {},
   "outputs": [
    {
     "name": "stdout",
     "output_type": "stream",
     "text": [
      "1\n",
      "01\n",
      "101\n",
      "0101\n",
      "10101\n"
     ]
    }
   ],
   "source": [
    "def pattern11(N):\n",
    "    # First row starts by printing a single 1.\n",
    "    start = 1\n",
    "    \n",
    "    # Outer loop for the number of rows\n",
    "    for i in range(N):\n",
    "        # If the row index is even, then 1 is printed first in that row.\n",
    "        if i % 2 == 0:\n",
    "            start = 1\n",
    "        # If odd, then the first 0 will be printed in that row.\n",
    "        else:\n",
    "            start = 0\n",
    "        \n",
    "        # We alternatively print 1's and 0's in each row by using the inner loop.\n",
    "        for j in range(i + 1):\n",
    "            print(start, end='')\n",
    "            start = 1 - start\n",
    "        \n",
    "        # Move to the next row and give a line break.\n",
    "        print()\n",
    "\n",
    "# Here, we have taken the value of N as 5.\n",
    "# We can also take input from the user.\n",
    "N = 5\n",
    "pattern11(N)\n"
   ]
  },
  {
   "cell_type": "code",
   "execution_count": 38,
   "id": "1311ec3c",
   "metadata": {},
   "outputs": [
    {
     "name": "stdout",
     "output_type": "stream",
     "text": [
      "1\n",
      "21\n",
      "321\n",
      "4321\n",
      "54321\n"
     ]
    }
   ],
   "source": [
    "def pattern(N):\n",
    "    for i in range(1, N + 1):\n",
    "        # Print the increasing sequence\n",
    "        for j in range(1, i + 1):\n",
    "            print(j, end=\"\")\n",
    "        \n",
    "        # Print the spaces in between\n",
    "        spaces = 2 * (N - i)\n",
    "        for _ in range(spaces):\n",
    "            print(\" \", end=\"\")\n",
    "        \n",
    "        # Print the decreasing sequence\n",
    "        for j in range(i, 0, -1):\n",
    "            print(j, end=\"\")\n",
    "        \n",
    "        # Move to the next row\n",
    "        print()\n",
    "\n",
    "# Example usage\n",
    "N = 5\n",
    "pattern(N)\n",
    "\n",
    "    "
   ]
  },
  {
   "cell_type": "code",
   "execution_count": 57,
   "id": "f6418504",
   "metadata": {},
   "outputs": [
    {
     "name": "stdout",
     "output_type": "stream",
     "text": [
      "1 \n",
      " \n",
      " \n",
      " \n",
      " \n",
      " \n",
      " \n",
      " \n",
      " \n",
      " \n",
      " \n",
      " \n",
      "1\n",
      "12 \n",
      " \n",
      " \n",
      " \n",
      " \n",
      " \n",
      " \n",
      " \n",
      " \n",
      " \n",
      " \n",
      " \n",
      "21\n",
      "123 \n",
      " \n",
      " \n",
      " \n",
      " \n",
      " \n",
      " \n",
      " \n",
      " \n",
      " \n",
      " \n",
      " \n",
      "321\n",
      "1234 \n",
      " \n",
      " \n",
      " \n",
      " \n",
      " \n",
      " \n",
      " \n",
      " \n",
      " \n",
      " \n",
      " \n",
      "4321\n",
      "12345 \n",
      " \n",
      " \n",
      " \n",
      " \n",
      " \n",
      " \n",
      " \n",
      " \n",
      " \n",
      " \n",
      " \n",
      "54321\n",
      "123456 \n",
      " \n",
      " \n",
      " \n",
      " \n",
      " \n",
      " \n",
      " \n",
      " \n",
      " \n",
      " \n",
      " \n",
      "654321\n",
      "1234567 \n",
      " \n",
      " \n",
      " \n",
      " \n",
      " \n",
      " \n",
      " \n",
      " \n",
      " \n",
      " \n",
      " \n",
      "7654321\n"
     ]
    }
   ],
   "source": [
    "n=7\n",
    "for i in range(1,n+1):\n",
    "    for j in range(1,i+1):\n",
    "        print(j,end=\"\")\n",
    "    space=2*(n-1)\n",
    "    for m in range(space):\n",
    "        print(\" \")\n",
    "    for k in range(i,0,-1):\n",
    "        print(k,end=\"\")\n",
    "    print()"
   ]
  },
  {
   "cell_type": "code",
   "execution_count": 58,
   "id": "26981c58",
   "metadata": {
    "scrolled": true
   },
   "outputs": [
    {
     "name": "stdout",
     "output_type": "stream",
     "text": [
      "1          1\n",
      "12        21\n",
      "123      321\n",
      "1234    4321\n",
      "12345  54321\n",
      "123456654321\n"
     ]
    }
   ],
   "source": [
    "def pattern(N):\n",
    "    for i in range(1, N + 1):\n",
    "        # Print the increasing sequence\n",
    "        for j in range(1, i + 1):\n",
    "            print(j, end=\"\")\n",
    "        \n",
    "        # Print the spaces in between\n",
    "        spaces = 2 * (N - i)\n",
    "        for _ in range(spaces):\n",
    "            print(\" \", end=\"\")\n",
    "        \n",
    "        # Print the decreasing sequence\n",
    "        for j in range(i, 0, -1):\n",
    "            print(j, end=\"\")\n",
    "        \n",
    "        # Move to the next row\n",
    "        print()\n",
    "\n",
    "# Example usage\n",
    "N = 6\n",
    "pattern(N)\n"
   ]
  },
  {
   "cell_type": "code",
   "execution_count": 77,
   "id": "ec0a9764",
   "metadata": {},
   "outputs": [
    {
     "name": "stdout",
     "output_type": "stream",
     "text": [
      "A \n",
      "A B \n",
      "A B C \n",
      "A B C D \n",
      "A B C D E \n"
     ]
    }
   ],
   "source": [
    "num=\"ABCDE\"\n",
    "c=\"\"\n",
    "for i in range(len(num)):\n",
    "    for j in range(0,i+1):\n",
    "        print(num[j],end=\" \")\n",
    "    print()"
   ]
  },
  {
   "cell_type": "code",
   "execution_count": 83,
   "id": "64f9f5a0",
   "metadata": {},
   "outputs": [
    {
     "name": "stdout",
     "output_type": "stream",
     "text": [
      "A B C D E \n",
      "A B C D \n",
      "A B C \n",
      "A B \n",
      "A \n"
     ]
    }
   ],
   "source": [
    "num=\"ABCDE\"\n",
    "c=\"\"\n",
    "for i in range(5,0,-1):\n",
    "    for j in range(i):\n",
    "        print(num[j])\n",
    "    print()"
   ]
  },
  {
   "cell_type": "code",
   "execution_count": 86,
   "id": "b7aea73d",
   "metadata": {},
   "outputs": [
    {
     "name": "stdout",
     "output_type": "stream",
     "text": [
      "     A\n",
      "    ABA\n",
      "   ABCBA\n",
      "  ABCDCBA\n",
      " ABCDEDCBA\n",
      "ABCDEFEDCBA\n"
     ]
    }
   ],
   "source": [
    "for i in range(N):\n",
    "        # Print leading spaces\n",
    "        for j in range(N - i - 1):\n",
    "            print(\" \", end=\"\")\n",
    "        \n",
    "        # Print increasing part of the pattern\n",
    "        for j in range(i + 1):\n",
    "            print(chr(65 + j), end=\"\")\n",
    "        \n",
    "        # Print decreasing part of the pattern\n",
    "        for j in range(i - 1, -1, -1):\n",
    "            print(chr(65 + j), end=\"\")\n",
    "        \n",
    "        # Move to the next line\n",
    "        print()"
   ]
  },
  {
   "cell_type": "code",
   "execution_count": 90,
   "id": "47ebb0f9",
   "metadata": {},
   "outputs": [
    {
     "name": "stdout",
     "output_type": "stream",
     "text": [
      "\n",
      "E\n",
      "\n",
      "EE\n",
      "EED\n",
      "\n",
      "EEDE\n",
      "EEDED\n",
      "EEDEDC\n",
      "\n",
      "EEDEDCE\n",
      "EEDEDCED\n",
      "EEDEDCEDC\n",
      "EEDEDCEDCB\n",
      "\n"
     ]
    }
   ],
   "source": [
    "ap=\"\"\n",
    "for i in range(5):\n",
    "    for j in range(i):\n",
    "        ap+=chr(69-j)\n",
    "        print(ap)\n",
    "    print()"
   ]
  },
  {
   "cell_type": "code",
   "execution_count": 98,
   "id": "e48d858c",
   "metadata": {},
   "outputs": [
    {
     "name": "stdout",
     "output_type": "stream",
     "text": [
      "xxxxx\n",
      "xxxx\n",
      "xxx\n",
      "xx\n"
     ]
    }
   ],
   "source": [
    "space=0  \n",
    "for i in range(5-1):\n",
    "    for j in range(i):\n",
    "        print(\"x\",end=\"\")   \n",
    "    for k in range(space):\n",
    "        print(\" \",end=\" \")\n",
    "        space+=2\n",
    "    #for j in range(i):\n",
    "    #    print(\"x\",end=\"\")\n",
    "    print()"
   ]
  },
  {
   "cell_type": "code",
   "execution_count": 100,
   "id": "8eebe03f",
   "metadata": {},
   "outputs": [
    {
     "name": "stdout",
     "output_type": "stream",
     "text": [
      "************\n",
      "*****  *****\n",
      "****    ****\n",
      "***      ***\n",
      "**        **\n",
      "*          *\n",
      "*          *\n",
      "**        **\n",
      "***      ***\n",
      "****    ****\n",
      "*****  *****\n",
      "************\n"
     ]
    }
   ],
   "source": [
    "def pattern(N):\n",
    "    # Generate the first half of the pattern\n",
    "    for i in range(N):\n",
    "        # Print the leading stars\n",
    "        for j in range(N - i):\n",
    "            print('*', end='')\n",
    "        \n",
    "        # Print the spaces\n",
    "        for j in range(2 * i):\n",
    "            print(' ', end='')\n",
    "        \n",
    "        # Print the trailing stars\n",
    "        for j in range(N - i):\n",
    "            print('*', end='')\n",
    "        \n",
    "        # Move to the next line\n",
    "        print()\n",
    "    \n",
    "    # Generate the second half of the pattern (mirror of the first half)\n",
    "    for i in range(N):\n",
    "        # Print the leading stars\n",
    "        for j in range(i + 1):\n",
    "            print('*', end='')\n",
    "        \n",
    "        # Print the spaces\n",
    "        for j in range(2 * (N - i - 1)):\n",
    "            print(' ', end='')\n",
    "        \n",
    "        # Print the trailing stars\n",
    "        for j in range(i + 1):\n",
    "            print('*', end='')\n",
    "        \n",
    "        # Move to the next line\n",
    "        print()\n",
    "\n",
    "# Example usage\n",
    "N = 6\n",
    "pattern(N)\n"
   ]
  },
  {
   "cell_type": "code",
   "execution_count": 111,
   "id": "3342c787",
   "metadata": {},
   "outputs": [
    {
     "name": "stdout",
     "output_type": "stream",
     "text": [
      "6\n",
      "5\n",
      "4\n",
      "3\n",
      "2\n",
      "1\n"
     ]
    }
   ],
   "source": [
    "for i in range(6,0,-1):\n",
    "    print(i)"
   ]
  },
  {
   "cell_type": "code",
   "execution_count": 104,
   "id": "1d993d2c",
   "metadata": {},
   "outputs": [],
   "source": [
    "def pope():\n",
    "    print(\"kkk\")"
   ]
  },
  {
   "cell_type": "code",
   "execution_count": 106,
   "id": "ff3d4db0",
   "metadata": {},
   "outputs": [
    {
     "name": "stdout",
     "output_type": "stream",
     "text": [
      "kkk\n"
     ]
    }
   ],
   "source": [
    "pope()"
   ]
  },
  {
   "cell_type": "code",
   "execution_count": 11,
   "id": "3652b0c3",
   "metadata": {},
   "outputs": [
    {
     "name": "stdout",
     "output_type": "stream",
     "text": [
      "       \n",
      "1     1\n",
      "12   21\n",
      "123 321\n",
      "12344321\n"
     ]
    }
   ],
   "source": [
    "n=4\n",
    "space=2*(n-1)\n",
    "for i in range(n+1):\n",
    "    for j in range(1,i+1):\n",
    "        print(j,end=\"\")\n",
    "    for k in range(space+1):\n",
    "        print(\" \",end=\"\")\n",
    "    for l in range(i,0,-1):\n",
    "        print(l,end=\"\")\n",
    "    print()\n",
    "    space-=2"
   ]
  },
  {
   "cell_type": "code",
   "execution_count": 24,
   "id": "1f9c26bf",
   "metadata": {},
   "outputs": [
    {
     "name": "stdout",
     "output_type": "stream",
     "text": [
      "1 \n",
      "2 3 \n",
      "4 5 6 \n",
      "7 8 9 10 \n",
      "11 12 13 14 15 \n"
     ]
    }
   ],
   "source": [
    "num=1\n",
    "for i in range(1,6):\n",
    "    for j in range(i):\n",
    "        print(num,end=\" \")\n",
    "        num+=1\n",
    "    print()\n",
    "        "
   ]
  },
  {
   "cell_type": "code",
   "execution_count": 25,
   "id": "abceca7b",
   "metadata": {},
   "outputs": [],
   "source": [
    "for i in range(0):\n",
    "    print(i)"
   ]
  },
  {
   "cell_type": "code",
   "execution_count": 47,
   "id": "2e0d65d9",
   "metadata": {},
   "outputs": [
    {
     "data": {
      "text/plain": [
       "69"
      ]
     },
     "execution_count": 47,
     "metadata": {},
     "output_type": "execute_result"
    }
   ],
   "source": [
    "ord('E')"
   ]
  },
  {
   "cell_type": "code",
   "execution_count": 50,
   "id": "73025912",
   "metadata": {},
   "outputs": [
    {
     "data": {
      "text/plain": [
       "'D'"
      ]
     },
     "execution_count": 50,
     "metadata": {},
     "output_type": "execute_result"
    }
   ],
   "source": [
    "chr(68)"
   ]
  },
  {
   "cell_type": "code",
   "execution_count": 41,
   "id": "e8b426fd",
   "metadata": {},
   "outputs": [
    {
     "name": "stdout",
     "output_type": "stream",
     "text": [
      "ABCDEF\n",
      "ABCDE\n",
      "ABCD\n",
      "ABC\n",
      "AB\n",
      "A\n"
     ]
    }
   ],
   "source": [
    "for i in range(6,0,-1):\n",
    "    for j in range(i):\n",
    "        print((chr(65+j)),end=\"\")\n",
    "    print()"
   ]
  },
  {
   "cell_type": "code",
   "execution_count": 46,
   "id": "014931c3",
   "metadata": {},
   "outputs": [
    {
     "name": "stdout",
     "output_type": "stream",
     "text": [
      "A\n",
      "BB\n",
      "CCC\n",
      "DDDD\n",
      "EEEEE\n"
     ]
    }
   ],
   "source": [
    "num=0\n",
    "for i in range(5):\n",
    "    for j in range(i+1):\n",
    "        print(chr(65+i),end=\"\")\n",
    "        num+=1\n",
    "    print()"
   ]
  },
  {
   "cell_type": "code",
   "execution_count": 65,
   "id": "2ad48c5c",
   "metadata": {},
   "outputs": [
    {
     "name": "stdout",
     "output_type": "stream",
     "text": [
      "E E \n",
      "F F F \n",
      "G G G G \n",
      "H H H H H \n",
      "I I I I I I \n"
     ]
    }
   ],
   "source": [
    "for i in range(5):\n",
    "    for j in range(i+1,-1,-1):\n",
    "        print(chr(69+i),end=\" \")\n",
    "    print()"
   ]
  },
  {
   "cell_type": "code",
   "execution_count": 67,
   "id": "f1e5530d",
   "metadata": {},
   "outputs": [
    {
     "name": "stdout",
     "output_type": "stream",
     "text": [
      "E \n",
      "D E \n",
      "C D E \n",
      "B C D E \n",
      "A B C D E \n"
     ]
    }
   ],
   "source": [
    "def pattern18(N):\n",
    "    # Outer loop for the number of rows\n",
    "    for i in range(N):\n",
    "        # Inner loop for printing the alphabets\n",
    "        # Starts from 'A' + N - 1 - i and goes up to 'A' + N - 1\n",
    "        for ch in range(ord('A') + N - 1 - i, ord('A') + N):\n",
    "            print(chr(ch), end=\" \")\n",
    "        \n",
    "        # Move to the next row\n",
    "        print()\n",
    "\n",
    "# Main function\n",
    "def main():\n",
    "    # Value of N\n",
    "    N = 5\n",
    "    \n",
    "    # Call the pattern18 function\n",
    "    pattern18(N)\n",
    "\n",
    "# Call the main function\n",
    "if __name__ == \"__main__\":\n",
    "    main()\n",
    "\n"
   ]
  },
  {
   "cell_type": "code",
   "execution_count": 75,
   "id": "9a2a6c18",
   "metadata": {},
   "outputs": [
    {
     "name": "stdout",
     "output_type": "stream",
     "text": [
      "**********\n",
      "****  ******\n",
      "***    *******\n",
      "**      ********\n",
      "*        *********\n"
     ]
    }
   ],
   "source": [
    "n=5\n",
    "space=0\n",
    "for i in range(n):\n",
    "    for j in range(n-i):\n",
    "        print(\"*\",end=\"\")\n",
    "    for k in range(2*i):\n",
    "        print(\" \",end=\"\")\n",
    "    for l in range(n+i):\n",
    "        print(\"*\",end=\"\")\n",
    "\n",
    "    print()"
   ]
  },
  {
   "cell_type": "code",
   "execution_count": 79,
   "id": "b58e4c6c",
   "metadata": {},
   "outputs": [
    {
     "name": "stdout",
     "output_type": "stream",
     "text": [
      "**********\n",
      "****  ****\n",
      "***    ***\n",
      "**      **\n",
      "*        *\n",
      "**********          **************        ***********      ********    ***"
     ]
    }
   ],
   "source": [
    "N=5\n",
    "for i in range(N):\n",
    "        # Print the leading stars\n",
    "        for j in range(N - i):\n",
    "            print('*', end='')\n",
    "        \n",
    "        # Print the spaces\n",
    "        for j in range(2 * i):\n",
    "            print(' ', end='')\n",
    "        \n",
    "        # Print the trailing stars\n",
    "        for j in range(N - i):\n",
    "            print('*', end='')\n",
    "        \n",
    "        # Move to the next line\n",
    "        print()\n",
    "for i in range(N,1,-1):\n",
    "    for j in range(i+i):\n",
    "            print('*', end='')\n",
    "        \n",
    "        # Print the spaces\n",
    "    for j in range(2 * i):\n",
    "        print(' ', end='')\n",
    "    \n",
    "    # Print the trailing stars\n",
    "    for j in range( i+1):\n",
    "        print('*', end='')"
   ]
  },
  {
   "cell_type": "code",
   "execution_count": 80,
   "id": "6396ed86",
   "metadata": {},
   "outputs": [
    {
     "name": "stdout",
     "output_type": "stream",
     "text": [
      "*        *\n",
      "**      **\n",
      "***    ***\n",
      "****  ****\n",
      "**********\n",
      "****  ****\n",
      "***    ***\n",
      "**      **\n",
      "*        *\n"
     ]
    }
   ],
   "source": [
    "def pattern20(n):\n",
    "    # Initialising the spaces\n",
    "    spaces = 2 * n - 2\n",
    "\n",
    "    # Outer loop for printing rows\n",
    "    for i in range(1, 2 * n):\n",
    "        # Stars for the first half\n",
    "        stars = i if i <= n else 2 * n - i\n",
    "\n",
    "        # For printing the stars\n",
    "        print(\"*\" * stars, end=\"\")\n",
    "\n",
    "        # For printing the spaces\n",
    "        print(\" \" * spaces, end=\"\")\n",
    "\n",
    "        # For printing the stars again\n",
    "        print(\"*\" * stars)\n",
    "\n",
    "        # Adjust spaces for the next row\n",
    "        if i < n:\n",
    "            spaces -= 2\n",
    "        else:\n",
    "            spaces += 2\n",
    "\n",
    "# Main function\n",
    "def main():\n",
    "    # Value of n\n",
    "    n = 5\n",
    "\n",
    "    # Call the pattern20 function\n",
    "    pattern20(n)\n",
    "\n",
    "# Call the main function\n",
    "if __name__ == \"__main__\":\n",
    "    main()\n",
    "\n",
    "    "
   ]
  },
  {
   "cell_type": "code",
   "execution_count": null,
   "id": "29a7754d",
   "metadata": {},
   "outputs": [],
   "source": [
    "import operator\n",
    "import uuid\n",
    "from typing import (\n",
    "    Annotated,\n",
    "    Any,\n",
    "    Callable,\n",
    "    Dict,\n",
    "    List,\n",
    "    Literal,\n",
    "    Optional,\n",
    "    Sequence,\n",
    "    Type,\n",
    "    Union,\n",
    ")\n",
    "\n",
    "from langchain_core.language_models import BaseChatModel\n",
    "from langchain_core.messages import (\n",
    "    AIMessage,\n",
    "    AnyMessage,\n",
    "    BaseMessage,\n",
    "    HumanMessage,\n",
    "    ToolCall,\n",
    ")\n",
    "from langchain_core.prompt_values import PromptValue\n",
    "from langchain_core.runnables import (\n",
    "    Runnable,\n",
    "    RunnableLambda,\n",
    ")\n",
    "from typing_extensions import TypedDict\n",
    "\n",
    "from langgraph.graph import StateGraph\n",
    "from langgraph.graph.message import add_messages\n",
    "from langgraph.prebuilt import ValidationNode\n",
    "\n",
    "\n",
    "def _default_aggregator(messages: Sequence[AnyMessage]) -> AIMessage:\n",
    "    for m in messages[::-1]:\n",
    "        if m.type == \"ai\":\n",
    "            return m\n",
    "    raise ValueError(\"No AI message found in the sequence.\")\n",
    "\n",
    "\n",
    "class RetryStrategy(TypedDict, total=False):\n",
    "    \"\"\"The retry strategy for a tool call.\"\"\"\n",
    "\n",
    "    max_attempts: int\n",
    "    \"\"\"The maximum number of attempts to make.\"\"\"\n",
    "    fallback: Optional[\n",
    "        Union[\n",
    "            Runnable[Sequence[AnyMessage], AIMessage],\n",
    "            Runnable[Sequence[AnyMessage], BaseMessage],\n",
    "            Callable[[Sequence[AnyMessage]], AIMessage],\n",
    "        ]\n",
    "    ]\n",
    "    \"\"\"The function to use once validation fails.\"\"\"\n",
    "    aggregate_messages: Optional[Callable[[Sequence[AnyMessage]], AIMessage]]\n",
    "\n",
    "\n",
    "def _bind_validator_with_retries(\n",
    "    llm: Union[\n",
    "        Runnable[Sequence[AnyMessage], AIMessage],\n",
    "        Runnable[Sequence[BaseMessage], BaseMessage],\n",
    "    ],\n",
    "    *,\n",
    "    validator: ValidationNode,\n",
    "    retry_strategy: RetryStrategy,\n",
    "    tool_choice: Optional[str] = None,\n",
    ") -> Runnable[Union[List[AnyMessage], PromptValue], AIMessage]:\n",
    "    \"\"\"Binds a tool validators + retry logic to create a runnable validation graph.\n",
    "\n",
    "    LLMs that support tool calling can generate structured JSON. However, they may not always\n",
    "    perfectly follow your requested schema, especially if the schema is nested or has complex\n",
    "    validation rules. This method allows you to bind a validation function to the LLM's output,\n",
    "    so that any time the LLM generates a message, the validation function is run on it. If\n",
    "    the validation fails, the method will retry the LLM with a fallback strategy, the simplest\n",
    "    being just to add a message to the output with the validation errors and a request to fix them.\n",
    "\n",
    "    The resulting runnable expects a list of messages as input and returns a single AI message.\n",
    "    By default, the LLM can optionally NOT invoke tools, making this easier to incorporate into\n",
    "    your existing chat bot. You can specify a tool_choice to force the validator to be run on\n",
    "    the outputs.\n",
    "\n",
    "    Args:\n",
    "        llm (Runnable): The llm that will generate the initial messages (and optionally fallba)\n",
    "        validator (ValidationNode): The validation logic.\n",
    "        retry_strategy (RetryStrategy): The retry strategy to use.\n",
    "            Possible keys:\n",
    "            - max_attempts: The maximum number of attempts to make.\n",
    "            - fallback: The LLM or function to use in case of validation failure.\n",
    "            - aggregate_messages: A function to aggregate the messages over multiple turns.\n",
    "                Defaults to fetching the last AI message.\n",
    "        tool_choice: If provided, always run the validator on the tool output.\n",
    "\n",
    "    Returns:\n",
    "        Runnable: A runnable that can be invoked with a list of messages and returns a single AI message.\n",
    "    \"\"\"\n",
    "\n",
    "    def add_or_overwrite_messages(left: list, right: Union[list, dict]) -> list:\n",
    "        \"\"\"Append messages. If the update is a 'finalized' output, replace the whole list.\"\"\"\n",
    "        if isinstance(right, dict) and \"finalize\" in right:\n",
    "            finalized = right[\"finalize\"]\n",
    "            if not isinstance(finalized, list):\n",
    "                finalized = [finalized]\n",
    "            for m in finalized:\n",
    "                if m.id is None:\n",
    "                    m.id = str(uuid.uuid4())\n",
    "            return finalized\n",
    "        res = add_messages(left, right)\n",
    "        if not isinstance(res, list):\n",
    "            return [res]\n",
    "        return res\n",
    "\n",
    "    class State(TypedDict):\n",
    "        messages: Annotated[list, add_or_overwrite_messages]\n",
    "        attempt_number: Annotated[int, operator.add]\n",
    "        initial_num_messages: int\n",
    "        input_format: Literal[\"list\", \"dict\"]\n",
    "\n",
    "    builder = StateGraph(State)\n",
    "\n",
    "    def dedict(x: State) -> list:\n",
    "        \"\"\"Get the messages from the state.\"\"\"\n",
    "        return x[\"messages\"]\n",
    "\n",
    "    model = dedict | llm | (lambda msg: {\"messages\": [msg], \"attempt_number\": 1})\n",
    "    fbrunnable = retry_strategy.get(\"fallback\")\n",
    "    if fbrunnable is None:\n",
    "        fb_runnable = llm\n",
    "    elif isinstance(fbrunnable, Runnable):\n",
    "        fb_runnable = fbrunnable  # type: ignore\n",
    "    else:\n",
    "        fb_runnable = RunnableLambda(fbrunnable)\n",
    "    fallback = (\n",
    "        dedict | fb_runnable | (lambda msg: {\"messages\": [msg], \"attempt_number\": 1})\n",
    "    )\n",
    "\n",
    "    def count_messages(state: State) -> dict:\n",
    "        return {\"initial_num_messages\": len(state.get(\"messages\", []))}\n",
    "\n",
    "    builder.add_node(\"count_messages\", count_messages)\n",
    "    builder.add_node(\"llm\", model)\n",
    "    builder.add_node(\"fallback\", fallback)\n",
    "\n",
    "    # To support patch-based retries, we need to be able to\n",
    "    # aggregate the messages over multiple turns.\n",
    "    # The next sequece selects only the relevant messages\n",
    "    # and then applies the validator\n",
    "    select_messages = retry_strategy.get(\"aggregate_messages\") or _default_aggregator\n",
    "\n",
    "    def select_generated_messages(state: State) -> list:\n",
    "        \"\"\"Select only the messages generated within this loop.\"\"\"\n",
    "        selected = state[\"messages\"][state[\"initial_num_messages\"] :]\n",
    "        return [select_messages(selected)]\n",
    "\n",
    "    def endict_validator_output(x: Sequence[AnyMessage]) -> dict:\n",
    "        if tool_choice and not x:\n",
    "            return {\n",
    "                \"messages\": [\n",
    "                    HumanMessage(\n",
    "                        content=f\"ValidationError: please respond with a valid tool call [tool_choice={tool_choice}].\",\n",
    "                        additional_kwargs={\"is_error\": True},\n",
    "                    )\n",
    "                ]\n",
    "            }\n",
    "        return {\"messages\": x}\n",
    "\n",
    "    validator_runnable = select_generated_messages | validator | endict_validator_output\n",
    "    builder.add_node(\"validator\", validator_runnable)\n",
    "\n",
    "    class Finalizer:\n",
    "        \"\"\"Pick the final message to return from the retry loop.\"\"\"\n",
    "\n",
    "        def __init__(self, aggregator: Optional[Callable[[list], AIMessage]] = None):\n",
    "            self._aggregator = aggregator or _default_aggregator\n",
    "\n",
    "        def __call__(self, state: State) -> dict:\n",
    "            \"\"\"Return just the AI message.\"\"\"\n",
    "            initial_num_messages = state[\"initial_num_messages\"]\n",
    "            generated_messages = state[\"messages\"][initial_num_messages:]\n",
    "            return {\n",
    "                \"messages\": {\n",
    "                    \"finalize\": self._aggregator(generated_messages),\n",
    "                }\n",
    "            }\n",
    "\n",
    "    # We only want to emit the final message\n",
    "    builder.add_node(\"finalizer\", Finalizer(retry_strategy.get(\"aggregate_messages\")))\n",
    "\n",
    "    # Define the connectivity\n",
    "    builder.set_entry_point(\"count_messages\")\n",
    "    builder.add_edge(\"count_messages\", \"llm\")\n",
    "\n",
    "    def route_validator(state: State) -> Literal[\"validator\", \"__end__\"]:\n",
    "        if state[\"messages\"][-1].tool_calls or tool_choice is not None:\n",
    "            return \"validator\"\n",
    "        return \"__end__\"\n",
    "\n",
    "    builder.add_conditional_edges(\"llm\", route_validator)\n",
    "    builder.add_edge(\"fallback\", \"validator\")\n",
    "    max_attempts = retry_strategy.get(\"max_attempts\", 3)\n",
    "\n",
    "    def route_validation(state: State) -> Literal[\"finalizer\", \"fallback\"]:\n",
    "        if state[\"attempt_number\"] > max_attempts:\n",
    "            raise ValueError(\n",
    "                f\"Could not extract a valid value in {max_attempts} attempts.\"\n",
    "            )\n",
    "        for m in state[\"messages\"][::-1]:\n",
    "            if m.type == \"ai\":\n",
    "                break\n",
    "            if m.additional_kwargs.get(\"is_error\"):\n",
    "                return \"fallback\"\n",
    "        return \"finalizer\"\n",
    "\n",
    "    builder.add_conditional_edges(\"validator\", route_validation)\n",
    "\n",
    "    builder.set_finish_point(\"finalizer\")\n",
    "\n",
    "    # These functions let the step be used in a MessageGraph\n",
    "    # or a StateGraph with 'messages' as the key.\n",
    "    def encode(x: Union[Sequence[AnyMessage], PromptValue]) -> dict:\n",
    "        \"\"\"Ensure the input is the correct format.\"\"\"\n",
    "        if isinstance(x, PromptValue):\n",
    "            return {\"messages\": x.to_messages(), \"input_format\": \"list\"}\n",
    "        if isinstance(x, list):\n",
    "            return {\"messages\": x, \"input_format\": \"list\"}\n",
    "        raise ValueError(f\"Unexpected input type: {type(x)}\")\n",
    "\n",
    "    def decode(x: State) -> AIMessage:\n",
    "        \"\"\"Ensure the output is in the expected format.\"\"\"\n",
    "        return x[\"messages\"][-1]\n",
    "\n",
    "    return (\n",
    "        encode | builder.compile().with_config(run_name=\"ValidationGraph\") | decode\n",
    "    ).with_config(run_name=\"ValidateWithRetries\")\n",
    "\n",
    "\n",
    "def bind_validator_with_retries(\n",
    "    llm: BaseChatModel,\n",
    "    *,\n",
    "    tools: list,\n",
    "    tool_choice: Optional[str] = None,\n",
    "    max_attempts: int = 3,\n",
    ") -> Runnable[Union[List[AnyMessage], PromptValue], AIMessage]:\n",
    "    \"\"\"Binds validators + retry logic ensure validity of generated tool calls.\n",
    "\n",
    "    LLMs that support tool calling are good at generating structured JSON. However, they may\n",
    "    not always perfectly follow your requested schema, especially if the schema is nested or\n",
    "    has complex validation rules. This method allows you to bind a validation function to\n",
    "    the LLM's output, so that any time the LLM generates a message, the validation function\n",
    "    is run on it. If the validation fails, the method will retry the LLM with a fallback\n",
    "    strategy, the simples being just to add a message to the output with the validation\n",
    "    errors and a request to fix them.\n",
    "\n",
    "    The resulting runnable expects a list of messages as input and returns a single AI message.\n",
    "    By default, the LLM can optionally NOT invoke tools, making this easier to incorporate into\n",
    "    your existing chat bot. You can specify a tool_choice to force the validator to be run on\n",
    "    the outputs.\n",
    "\n",
    "    Args:\n",
    "        llm (Runnable): The llm that will generate the initial messages (and optionally fallba)\n",
    "        validator (ValidationNode): The validation logic.\n",
    "        retry_strategy (RetryStrategy): The retry strategy to use.\n",
    "            Possible keys:\n",
    "            - max_attempts: The maximum number of attempts to make.\n",
    "            - fallback: The LLM or function to use in case of validation failure.\n",
    "            - aggregate_messages: A function to aggregate the messages over multiple turns.\n",
    "                Defaults to fetching the last AI message.\n",
    "        tool_choice: If provided, always run the validator on the tool output.\n",
    "\n",
    "    Returns:\n",
    "        Runnable: A runnable that can be invoked with a list of messages and returns a single AI message.\n",
    "    \"\"\"\n",
    "    bound_llm = llm.bind_tools(tools, tool_choice=tool_choice)\n",
    "    retry_strategy = RetryStrategy(max_attempts=max_attempts)\n",
    "    validator = ValidationNode(tools)\n",
    "    return _bind_validator_with_retries(\n",
    "        bound_llm,\n",
    "        validator=validator,\n",
    "        tool_choice=tool_choice,\n",
    "        retry_strategy=retry_strategy,\n",
    "    ).with_config(metadata={\"retry_strategy\": \"default\"})"
   ]
  },
  {
   "cell_type": "code",
   "execution_count": 6,
   "id": "f42b3aa9",
   "metadata": {},
   "outputs": [
    {
     "data": {
      "text/plain": [
       "{'a': 1, 'b': 2}"
      ]
     },
     "execution_count": 6,
     "metadata": {},
     "output_type": "execute_result"
    }
   ],
   "source": [
    "dict1 = {\"a\": 1, \"b\": 2}\n",
    "dict2 = {\"c\": 3, \"d\": 4}\n",
    "combined_dict = {**dict1}\n",
    "combined_dict"
   ]
  },
  {
   "cell_type": "code",
   "execution_count": 2,
   "id": "9debcb4c",
   "metadata": {},
   "outputs": [],
   "source": [
    "from langchain_core.messages import HumanMessage,AIMessage\n",
    "a=[HumanMessage(content='yes i would like a loan adjustment', id='5d4a4772-9081-48f2-b891-941f74c73dfb')]"
   ]
  },
  {
   "cell_type": "code",
   "execution_count": 5,
   "id": "355d7289",
   "metadata": {},
   "outputs": [
    {
     "data": {
      "text/plain": [
       "'yes i would like a loan adjustment'"
      ]
     },
     "execution_count": 5,
     "metadata": {},
     "output_type": "execute_result"
    }
   ],
   "source": [
    "a[0].content"
   ]
  },
  {
   "cell_type": "code",
   "execution_count": 17,
   "id": "09b2876d",
   "metadata": {},
   "outputs": [
    {
     "data": {
      "text/plain": [
       "'5804f12d-dffa-4ad4-9775-57628aba5a14'"
      ]
     },
     "execution_count": 17,
     "metadata": {},
     "output_type": "execute_result"
    }
   ],
   "source": [
    "from langchain_core.messages import HumanMessage,AIMessage,ToolMessage\n",
    "a= [HumanMessage(content='yes i would like a loan adjustment', id='5804f12d-dffa-4ad4-9775-57628aba5a14'), AIMessage(content='', additional_kwargs={'tool_calls': [{'id': 'call_yPgX7B3sKrlaWbLMyXnwwBEY', 'function': {'arguments': '{\"name\":\"James\",\"dialogue\":\"yes i would like a loan adjustment\"}', 'name': 'To_Loan_tool_1'}, 'type': 'function'}]}, response_metadata={'token_usage': {'completion_tokens': 30, 'prompt_tokens': 316, 'total_tokens': 346}, 'model_name': 'gpt-3.5-turbo', 'system_fingerprint': None, 'finish_reason': 'tool_calls', 'logprobs': None}, id='run-c39df3e3-fbde-4288-8a00-f4011718f52c-0', tool_calls=[{'name': 'To_Loan_tool_1', 'args': {'name': 'James', 'dialogue': 'yes i would like a loan adjustment'}, 'id': 'call_yPgX7B3sKrlaWbLMyXnwwBEY'}]), ToolMessage(content=\"The assistant is now the Loan_calculator_assistant. Reflect on the above conversation between the host assistant and the user. The user's intent is unsatisfied. Use the provided tools to assist the user. Remember, you are Loan_calculator_assistant, and the booking, update, other other action is not complete until after you have successfully invoked the appropriate tool. If the user changes their mind or needs help for other tasks, call the CompleteOrEscalate function to let the primary host assistant take control. Do not mention who you are - just act as the proxy for the assistant.\", id='b2062865-64b3-4e2e-b96a-7827c2ce4cf0', tool_call_id='call_yPgX7B3sKrlaWbLMyXnwwBEY'), AIMessage(content='', additional_kwargs={'tool_calls': [{'id': 'call_IwKUYiNZT3dKsg4Tm4loRizM', 'function': {'arguments': '{\"name\":\"James\"}', 'name': 'monthly_payment'}, 'type': 'function'}]}, response_metadata={'token_usage': {'completion_tokens': 15, 'prompt_tokens': 447, 'total_tokens': 462}, 'model_name': 'gpt-3.5-turbo', 'system_fingerprint': None, 'finish_reason': 'tool_calls', 'logprobs': None}, id='run-1dcb8c50-a7a4-4b7b-9df6-39cf00d9d330-0', tool_calls=[{'name': 'monthly_payment', 'args': {'name': 'James'}, 'id': 'call_IwKUYiNZT3dKsg4Tm4loRizM'}]), ToolMessage(content='16.666500000000042', name='monthly_payment', id='7954b1ba-f5d9-4720-949f-70ade4d9313b', tool_call_id='call_IwKUYiNZT3dKsg4Tm4loRizM'), AIMessage(content='', additional_kwargs={'tool_calls': [{'id': 'call_aCJjUj2rYKxAwEArsxWxAfQD', 'function': {'arguments': '{\"reason\":\"Loan amount calculated\"}', 'name': 'CompleteOrEscalate'}, 'type': 'function'}]}, response_metadata={'token_usage': {'completion_tokens': 19, 'prompt_tokens': 477, 'total_tokens': 496}, 'model_name': 'gpt-3.5-turbo', 'system_fingerprint': None, 'finish_reason': 'tool_calls', 'logprobs': None}, id='run-15e0baca-52f0-42cb-8208-18265c5da2c2-0', tool_calls=[{'name': 'CompleteOrEscalate', 'args': {'reason': 'Loan amount calculated'}, 'id': 'call_aCJjUj2rYKxAwEArsxWxAfQD'}]), ToolMessage(content='Resuming dialog with the host assistant. Please reflect on the past conversation and assist the user as needed.', id='dfce330d-4f51-42e2-84a9-ec0766f0d2e6', tool_call_id='call_aCJjUj2rYKxAwEArsxWxAfQD'), AIMessage(content='', additional_kwargs={'tool_calls': [{'id': 'call_1HBQY6wC137KNTYU0ndoJlGX', 'function': {'arguments': '{\"name\":\"James\",\"dialogue\":\"yes i would like a loan adjustment\"}', 'name': 'To_Loan_tool_1'}, 'type': 'function'}]}, response_metadata={'token_usage': {'completion_tokens': 30, 'prompt_tokens': 1290, 'total_tokens': 1320}, 'model_name': 'gpt-3.5-turbo', 'system_fingerprint': None, 'finish_reason': 'tool_calls', 'logprobs': None}, id='run-25b2aa97-36a3-490d-9734-f49395d7508a-0', tool_calls=[{'name': 'To_Loan_tool_1', 'args': {'name': 'James', 'dialogue': 'yes i would like a loan adjustment'}, 'id': 'call_1HBQY6wC137KNTYU0ndoJlGX'}]), ToolMessage(content=\"The assistant is now the Loan_calculator_assistant. Reflect on the above conversation between the host assistant and the user. The user's intent is unsatisfied. Use the provided tools to assist the user. Remember, you are Loan_calculator_assistant, and the booking, update, other other action is not complete until after you have successfully invoked the appropriate tool. If the user changes their mind or needs help for other tasks, call the CompleteOrEscalate function to let the primary host assistant take control. Do not mention who you are - just act as the proxy for the assistant.\", id='517e3633-9b83-43f0-8226-c055107b4f74', tool_call_id='call_1HBQY6wC137KNTYU0ndoJlGX'), AIMessage(content='', additional_kwargs={'tool_calls': [{'id': 'call_j0WzhBO9BNO6UyvGDx278Leb', 'function': {'arguments': '{\"name\":\"James\"}', 'name': 'monthly_payment'}, 'type': 'function'}]}, response_metadata={'token_usage': {'completion_tokens': 15, 'prompt_tokens': 690, 'total_tokens': 705}, 'model_name': 'gpt-3.5-turbo', 'system_fingerprint': None, 'finish_reason': 'tool_calls', 'logprobs': None}, id='run-23447853-f300-4e36-8909-3556caac1df6-0', tool_calls=[{'name': 'monthly_payment', 'args': {'name': 'James'}, 'id': 'call_j0WzhBO9BNO6UyvGDx278Leb'}]), ToolMessage(content='16.666500000000042', name='monthly_payment', id='042a24d0-bd91-4796-a61d-d683f4c21184', tool_call_id='call_j0WzhBO9BNO6UyvGDx278Leb'), AIMessage(content='', additional_kwargs={'tool_calls': [{'id': 'call_DmcCKHBPnu4CMSl6jJdV5RQ9', 'function': {'arguments': '{\"reason\":\"Loan amount calculated\"}', 'name': 'CompleteOrEscalate'}, 'type': 'function'}]}, response_metadata={'token_usage': {'completion_tokens': 19, 'prompt_tokens': 720, 'total_tokens': 739}, 'model_name': 'gpt-3.5-turbo', 'system_fingerprint': None, 'finish_reason': 'tool_calls', 'logprobs': None}, id='run-f2c4c076-6a7e-4cd6-9666-c912dec4ebeb-0', tool_calls=[{'name': 'CompleteOrEscalate', 'args': {'reason': 'Loan amount calculated'}, 'id': 'call_DmcCKHBPnu4CMSl6jJdV5RQ9'}]), ToolMessage(content='Resuming dialog with the host assistant. Please reflect on the past conversation and assist the user as needed.', id='91c8a38c-9ee3-4a1c-8f53-92230d29cd6c', tool_call_id='call_DmcCKHBPnu4CMSl6jJdV5RQ9')]\n",
    "tool_call_id = a[0].id\n",
    "tool_call_id                 "
   ]
  },
  {
   "cell_type": "code",
   "execution_count": 5,
   "id": "b7697713",
   "metadata": {},
   "outputs": [],
   "source": [
    "from langchain_core.messages import HumanMessage,AIMessage,ToolMessage\n",
    "a=[AIMessage(content='', additional_kwargs={'tool_calls': [{'id': 'call_pdjCgeYcqSRts7X0WlFyr21H', 'function': {'arguments': '{\"name\":\"James\",\"dialogue\":\"yes i am willing to pay some portion of the loan amount\"}', 'name': 'To_Loan_tool_1'}, 'type': 'function'}]}, response_metadata={'token_usage': {'completion_tokens': 34, 'prompt_tokens': 348, 'total_tokens': 382}, 'model_name': 'gpt-4o', 'system_fingerprint': 'fp_319be4768e', 'finish_reason': 'tool_calls', 'logprobs': None}, id='run-6fd2248e-8b2c-4c56-bdc1-b8eead013715-0', tool_calls=[{'name': 'To_Loan_tool_1', 'args': {'name': 'James', 'dialogue': 'yes i am willing to pay some portion of the loan amount'}, 'id': 'call_pdjCgeYcqSRts7X0WlFyr21H'}])]"
   ]
  },
  {
   "cell_type": "code",
   "execution_count": 7,
   "id": "b6ad4788",
   "metadata": {},
   "outputs": [],
   "source": [
    "b=a[-1]"
   ]
  },
  {
   "cell_type": "code",
   "execution_count": 11,
   "id": "8356a0d3",
   "metadata": {},
   "outputs": [
    {
     "name": "stdout",
     "output_type": "stream",
     "text": [
      "h\n"
     ]
    }
   ],
   "source": [
    "if hasattr(b, \"tool_calls\") and len(b.tool_calls) > 0:\n",
    "        print(\"h\")"
   ]
  },
  {
   "cell_type": "code",
   "execution_count": 1,
   "id": "40453f02",
   "metadata": {},
   "outputs": [
    {
     "name": "stdout",
     "output_type": "stream",
     "text": [
      "Model(pet=Cat(pet_type='cat', age=12))\n",
      "Model(pet=Dog(pet_kind='dog', age=12))\n"
     ]
    }
   ],
   "source": [
    "from typing import Literal, Union\n",
    "\n",
    "from typing_extensions import Annotated\n",
    "\n",
    "from pydantic import BaseModel, Discriminator, Field, Tag\n",
    "\n",
    "\n",
    "class Cat(BaseModel):\n",
    "    pet_type: Literal['cat']\n",
    "    age: int\n",
    "\n",
    "\n",
    "class Dog(BaseModel):\n",
    "    pet_kind: Literal['dog']\n",
    "    age: int\n",
    "\n",
    "\n",
    "def pet_discriminator(v):\n",
    "    if isinstance(v, dict):\n",
    "        return v.get('pet_type', v.get('pet_kind'))\n",
    "    return getattr(v, 'pet_type', getattr(v, 'pet_kind', None))\n",
    "\n",
    "\n",
    "class Model(BaseModel):\n",
    "    pet: Union[Annotated[Cat, Tag('cat')], Annotated[Dog, Tag('dog')]] = Field(\n",
    "        discriminator=Discriminator(pet_discriminator)\n",
    "    )\n",
    "\n",
    "\n",
    "print(repr(Model.model_validate({'pet': {'pet_type': 'cat', 'age': 12}})))\n",
    "#> Model(pet=Cat(pet_type='cat', age=12))\n",
    "\n",
    "print(repr(Model.model_validate({'pet': {'pet_kind': 'dog', 'age': 12}})))\n",
    "#> Model(pet=Dog(pet_kind='dog', age=12))"
   ]
  },
  {
   "cell_type": "code",
   "execution_count": 4,
   "id": "66d8b670",
   "metadata": {},
   "outputs": [],
   "source": [
    "c=Dog(pet_kind=\"dog\",age=12)"
   ]
  },
  {
   "cell_type": "code",
   "execution_count": null,
   "id": "79dc2284",
   "metadata": {},
   "outputs": [],
   "source": []
  },
  {
   "cell_type": "code",
   "execution_count": null,
   "id": "202196bb",
   "metadata": {},
   "outputs": [],
   "source": []
  }
 ],
 "metadata": {
  "kernelspec": {
   "display_name": "Python 3 (ipykernel)",
   "language": "python",
   "name": "python3"
  },
  "language_info": {
   "codemirror_mode": {
    "name": "ipython",
    "version": 3
   },
   "file_extension": ".py",
   "mimetype": "text/x-python",
   "name": "python",
   "nbconvert_exporter": "python",
   "pygments_lexer": "ipython3",
   "version": "3.11.2"
  }
 },
 "nbformat": 4,
 "nbformat_minor": 5
}
